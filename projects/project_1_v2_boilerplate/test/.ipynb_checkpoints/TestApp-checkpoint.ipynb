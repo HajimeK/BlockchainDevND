{
 "cells": [
  {
   "cell_type": "markdown",
   "metadata": {},
   "source": [
    "#### 0. Prerequisite : Jupyter notebook\n",
    "\n",
    "Install conda to set up the python environment.\n",
    "https://www.anaconda.com/\n",
    "\n",
    "You also need to run\n",
    "\n",
    "> conda install jupyter\n",
    "> conda install requests\n",
    "\n",
    "to run this jupyter notebook.\n",
    "\n",
    "After the intallation fininshed, move to the project root folder and then run in your command line below to launch this notebook.\n",
    "\n",
    "> jupyter notebook ./src/TestApp.ipyng"
   ]
  },
  {
   "cell_type": "markdown",
   "metadata": {},
   "source": [
    "### 1. Run your application using the command `node app.js`\n",
    "You should see in your terminal a message indicating that the server is listening in port 8000:\n",
    "> Server Listening for port: 8000"
   ]
  },
  {
   "cell_type": "markdown",
   "metadata": {},
   "source": [
    "#### impoprts"
   ]
  },
  {
   "cell_type": "code",
   "execution_count": 1,
   "metadata": {},
   "outputs": [],
   "source": [
    "import requests\n",
    "import json"
   ]
  },
  {
   "cell_type": "markdown",
   "metadata": {},
   "source": [
    "#### Logging"
   ]
  },
  {
   "cell_type": "code",
   "execution_count": 2,
   "metadata": {},
   "outputs": [],
   "source": [
    "import logging\n",
    "\n",
    "logging.basicConfig()\n",
    "logger = logging.getLogger()\n",
    "logger.setLevel(logging.DEBUG)"
   ]
  },
  {
   "cell_type": "markdown",
   "metadata": {},
   "source": [
    "### 2. To make sure your application is working fine and it creates the Genesis Block you can use POSTMAN to request the Genesis block:"
   ]
  },
  {
   "cell_type": "code",
   "execution_count": 3,
   "metadata": {},
   "outputs": [
    {
     "name": "stderr",
     "output_type": "stream",
     "text": [
      "DEBUG:urllib3.connectionpool:Starting new HTTP connection (1): localhost:8000\n",
      "DEBUG:urllib3.connectionpool:http://localhost:8000 \"GET /block/0 HTTP/1.1\" 200 189\n",
      "DEBUG:root:{'hash': 'db7e0ce585e1297ead064779990325d857ac9f95cc245033f02f55931cc82683', 'height': 0, 'body': '7b2264617461223a2247656e6573697320426c6f636b227d', 'time': '1563174966', 'previousBlockHash': None}\n"
     ]
    }
   ],
   "source": [
    "# Get Genesis block\n",
    "url = 'http://localhost:8000'\n",
    "genesisBlock = \"/block/0\"\n",
    "headers =  {\"Content-Type\": \"application/json\"}\n",
    "resp = requests.get(url+genesisBlock,\n",
    "                    headers=headers)\n",
    "logger.debug(resp.json())"
   ]
  },
  {
   "cell_type": "markdown",
   "metadata": {},
   "source": [
    "### 3. Make your first request of ownership sending your wallet address:"
   ]
  },
  {
   "cell_type": "code",
   "execution_count": 4,
   "metadata": {},
   "outputs": [
    {
     "name": "stderr",
     "output_type": "stream",
     "text": [
      "DEBUG:urllib3.connectionpool:Starting new HTTP connection (1): localhost:8000\n",
      "DEBUG:urllib3.connectionpool:http://localhost:8000 \"POST /requestValidation HTTP/1.1\" 200 60\n",
      "DEBUG:root:n3GvaWuoTr5pPFnRFDJhrHo2ByQRPqSfEh:1563175012:starRegistry\n"
     ]
    }
   ],
   "source": [
    "# Request Validation\n",
    "requestValidation = '/requestValidation'\n",
    "data = {'address': 'n3GvaWuoTr5pPFnRFDJhrHo2ByQRPqSfEh'}\n",
    "resp = requests.post(url+requestValidation,\n",
    "                     headers  = headers,\n",
    "                     data = json.dumps(data))\n",
    "logger.debug(resp.json())"
   ]
  },
  {
   "cell_type": "markdown",
   "metadata": {},
   "source": [
    "### 4. Sign the message with your Wallet:\n",
    "\n",
    "After version 0.16, run the command in the console with \"legacy\" for address_type as below\n",
    "\n",
    ">    getnewaddress \"newaddress\" \"legacy\"\n",
    "\n",
    "After version 0.16, segwit address became the default and p2sh address is generated.\n",
    "\n",
    ">    Bitcoin Core 0.16.0 introduces full support for segwit in the wallet and user interfaces. A new -addresstype argument has been added, which supports legacy, p2sh-segwit (default), and bech32 addresses.\n",
    "\n",
    "In my test case, following is signature is negerated\n",
    "\n",
    "address: n3GvaWuoTr5pPFnRFDJhrHo2ByQRPqSfEh<br>\n",
    "message: n3GvaWuoTr5pPFnRFDJhrHo2ByQRPqSfEh:1562997899:starRegistry<br>\n",
    "\n",
    "H7PVR7vP/4acMjeKqhWvvRxTbdRa6r/JKmY6m+pD7UY7Ylkse1Awk5O/wW90wUI5u42zh9wmEdpMI4y550hZkMk=\n"
   ]
  },
  {
   "cell_type": "markdown",
   "metadata": {},
   "source": [
    "### 5. Submit your Star"
   ]
  },
  {
   "cell_type": "code",
   "execution_count": 5,
   "metadata": {},
   "outputs": [
    {
     "name": "stderr",
     "output_type": "stream",
     "text": [
      "DEBUG:urllib3.connectionpool:Starting new HTTP connection (1): localhost:8000\n",
      "DEBUG:urllib3.connectionpool:http://localhost:8000 \"POST /submitstar HTTP/1.1\" 200 439\n",
      "DEBUG:root:{'hash': '3ac29f204b9d3c017d2194af9009ad53a6931dbc9b507ee54a312998df9c1fd0', 'height': 1, 'body': '7b226f776e6572223a226e3347766157756f5472357050466e5246444a6872486f3242795152507153664568222c2273746172223a7b22646563223a223638c2b0203532272035362e39222c227261223a223136682032396d20312e3073222c2273746f7279223a2246697273742053746172227d7d', 'time': '1563175012', 'previousBlockHash': 'db7e0ce585e1297ead064779990325d857ac9f95cc245033f02f55931cc82683'}\n"
     ]
    }
   ],
   "source": [
    "# Submit start\n",
    "submitstart = '/submitstar'\n",
    "data = { 'address': 'n3GvaWuoTr5pPFnRFDJhrHo2ByQRPqSfEh',\n",
    "         'signature': 'IGtS96aWDNKjI67c/fiwW9zUFwUZh5HpQHDnWJJ/QuVMAw4OUwr+8WA27/CvgX2dMCvGTZHkbA2mlXkA5lMkxh4=',\n",
    "         'message': 'n3GvaWuoTr5pPFnRFDJhrHo2ByQRPqSfEh:1563054933:starRegistry',\n",
    "         'star' : {\n",
    "           \"dec\": \"68° 52' 56.9\",\n",
    "           \"ra\": \"16h 29m 1.0s\",\n",
    "           \"story\": \"First Star\"\n",
    "         }\n",
    "       }\n",
    "\n",
    "resp = requests.post(url+submitstart,\n",
    "                     headers  = headers,\n",
    "                     data = json.dumps(data))\n",
    "logger.debug(resp.json())"
   ]
  },
  {
   "cell_type": "markdown",
   "metadata": {},
   "source": [
    "### 6. Retrieve Stars owned by me"
   ]
  },
  {
   "cell_type": "code",
   "execution_count": 6,
   "metadata": {},
   "outputs": [
    {
     "name": "stderr",
     "output_type": "stream",
     "text": [
      "DEBUG:urllib3.connectionpool:Starting new HTTP connection (1): localhost:8000\n",
      "DEBUG:urllib3.connectionpool:http://localhost:8000 \"GET /blocks/n3GvaWuoTr5pPFnRFDJhrHo2ByQRPqSfEh HTTP/1.1\" 200 122\n",
      "DEBUG:root:[{'owner': 'n3GvaWuoTr5pPFnRFDJhrHo2ByQRPqSfEh', 'star': {'dec': \"68Â° 52' 56.9\", 'ra': '16h 29m 1.0s', 'story': 'First Star'}}]\n"
     ]
    }
   ],
   "source": [
    "# Retrieve Stars owned by me\n",
    "blocks = '/blocks/n3GvaWuoTr5pPFnRFDJhrHo2ByQRPqSfEh'\n",
    "resp = requests.get(url+blocks,\n",
    "                    headers  = headers)\n",
    "logger.debug(resp.json())"
   ]
  },
  {
   "cell_type": "markdown",
   "metadata": {},
   "source": [
    "Now could retrieve the same block."
   ]
  }
 ],
 "metadata": {
  "kernelspec": {
   "display_name": "Python 3",
   "language": "python",
   "name": "python3"
  },
  "language_info": {
   "codemirror_mode": {
    "name": "ipython",
    "version": 3
   },
   "file_extension": ".py",
   "mimetype": "text/x-python",
   "name": "python",
   "nbconvert_exporter": "python",
   "pygments_lexer": "ipython3",
   "version": "3.7.3"
  }
 },
 "nbformat": 4,
 "nbformat_minor": 2
}
